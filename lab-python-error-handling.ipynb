{
 "cells": [
  {
   "cell_type": "markdown",
   "id": "25d7736c-ba17-4aff-b6bb-66eba20fbf4e",
   "metadata": {},
   "source": [
    "# Lab | Error Handling"
   ]
  },
  {
   "cell_type": "markdown",
   "id": "bc99b386-7508-47a0-bcdb-d969deaf6c8b",
   "metadata": {},
   "source": [
    "## Exercise: Error Handling for Managing Customer Orders\n",
    "\n",
    "The implementation of your code for managing customer orders assumes that the user will always enter a valid input. \n",
    "\n",
    "For example, we could modify the `initialize_inventory` function to include error handling.\n",
    "   - If the user enters an invalid quantity (e.g., a negative value or a non-numeric value), display an error message and ask them to re-enter the quantity for that product.\n",
    "   - Use a try-except block to handle the error and continue prompting the user until a valid quantity is entered.\n",
    "\n",
    "```python\n",
    "# Step 1: Define the function for initializing the inventory with error handling\n",
    "def initialize_inventory(products):\n",
    "    inventory = {}\n",
    "    for product in products:\n",
    "        valid_quantity = False\n",
    "        while not valid_quantity:\n",
    "            try:\n",
    "                quantity = int(input(f\"Enter the quantity of {product}s available: \"))\n",
    "                if quantity < 0:\n",
    "                    raise ValueError(\"Invalid quantity! Please enter a non-negative value.\")\n",
    "                valid_quantity = True\n",
    "            except ValueError as error:\n",
    "                print(f\"Error: {error}\")\n",
    "        inventory[product] = quantity\n",
    "    return inventory\n",
    "\n",
    "# Or, in another way:\n",
    "\n",
    "def initialize_inventory(products):\n",
    "    inventory = {}\n",
    "    for product in products:\n",
    "        valid_input = False\n",
    "        while not valid_input:\n",
    "            try:\n",
    "                quantity = int(input(f\"Enter the quantity of {product}s available: \"))\n",
    "                if quantity >= 0:\n",
    "                    inventory[product] = quantity\n",
    "                    valid_input = True\n",
    "                else:\n",
    "                    print(\"Quantity cannot be negative. Please enter a valid quantity.\")\n",
    "            except ValueError:\n",
    "                print(\"Invalid input. Please enter a valid quantity.\")\n",
    "    return inventory\n",
    "```\n",
    "\n",
    "Let's enhance your code by implementing error handling to handle invalid inputs.\n",
    "\n",
    "Follow the steps below to complete the exercise:\n",
    "\n",
    "2. Modify the `calculate_total_price` function to include error handling.\n",
    "   - If the user enters an invalid price (e.g., a negative value or a non-numeric value), display an error message and ask them to re-enter the price for that product.\n",
    "   - Use a try-except block to handle the error and continue prompting the user until a valid price is entered.\n",
    "\n",
    "3. Modify the `get_customer_orders` function to include error handling.\n",
    "   - If the user enters an invalid number of orders (e.g., a negative value or a non-numeric value), display an error message and ask them to re-enter the number of orders.\n",
    "   - If the user enters an invalid product name (e.g., a product name that is not in the inventory), or that doesn't have stock available, display an error message and ask them to re-enter the product name. *Hint: you will need to pass inventory as a parameter*\n",
    "   - Use a try-except block to handle the error and continue prompting the user until a valid product name is entered.\n",
    "\n",
    "4. Test your code by running the program and deliberately entering invalid quantities and product names. Make sure the error handling mechanism works as expected.\n"
   ]
  },
  {
   "cell_type": "code",
   "execution_count": 3,
   "id": "85f72af7-b9fa-4cfd-ab45-e05c4dc4f35d",
   "metadata": {},
   "outputs": [
    {
     "name": "stdin",
     "output_type": "stream",
     "text": [
      "Please enter the quantity of t-shirt:  10\n",
      "Please enter the quantity of mug:  10\n",
      "Please enter the quantity of hat:  10\n",
      "Please enter the quantity of book:  10\n",
      "Please enter the quantity of keychain:  10\n",
      "Please enter the number of orders you want to execute:  -1\n"
     ]
    },
    {
     "name": "stdout",
     "output_type": "stream",
     "text": [
      "Error: Number must be non-negative.\n"
     ]
    },
    {
     "name": "stdin",
     "output_type": "stream",
     "text": [
      "Please enter the number of orders you want to execute:  3\n",
      "Enter the product name:  mug\n",
      "Enter the product name:  tshirt\n"
     ]
    },
    {
     "name": "stdout",
     "output_type": "stream",
     "text": [
      "Error: Invalid product name or out of stock.\n"
     ]
    },
    {
     "name": "stdin",
     "output_type": "stream",
     "text": [
      "Enter the product name:  t-shirt\n",
      "Enter the product name:  book\n"
     ]
    },
    {
     "name": "stdout",
     "output_type": "stream",
     "text": [
      "Order Statistics:\n",
      "Total Products Ordered: 3\n",
      "Percentage of Products Ordered: 6.00%\n",
      "Updated Inventory: {'t-shirt': 9, 'mug': 9, 'hat': 10, 'book': 9, 'keychain': 10}\n"
     ]
    },
    {
     "name": "stdin",
     "output_type": "stream",
     "text": [
      "Please enter the price of the mug:  seven\n"
     ]
    },
    {
     "name": "stdout",
     "output_type": "stream",
     "text": [
      "Error: could not convert string to float: 'seven'\n"
     ]
    },
    {
     "name": "stdin",
     "output_type": "stream",
     "text": [
      "Please enter the price of the mug:  -5\n"
     ]
    },
    {
     "name": "stdout",
     "output_type": "stream",
     "text": [
      "Error: Invalid price! Please enter a non-negative value.\n"
     ]
    },
    {
     "name": "stdin",
     "output_type": "stream",
     "text": [
      "Please enter the price of the mug:  14\n",
      "Please enter the price of the t-shirt:  27\n",
      "Please enter the price of the book:  23\n"
     ]
    },
    {
     "name": "stdout",
     "output_type": "stream",
     "text": [
      "Total price of ordered products is: 64.00\n"
     ]
    }
   ],
   "source": [
    "products = [\"t-shirt\", \"mug\", \"hat\", \"book\", \"keychain\"]\n",
    "\n",
    "#   If the user enters an invalid quantity (e.g., a negative value or a non-numeric value),\n",
    "#   display an error message and ask them to re-enter the quantity for that product.\n",
    "#   Use a try-except block to handle the error and continue prompting the user until a valid quantity is entered.\n",
    "\n",
    "\n",
    "def initialize_inventory(products):\n",
    "    inventory = {}\n",
    "    for product in products:\n",
    "        valid_input = False\n",
    "        while not valid_input:\n",
    "            try:\n",
    "                quantity_input = int(input(f\"Please enter the quantity of {product}: \"))\n",
    "                if quantity_input < 0:\n",
    "                    raise ValueError(\"Invalid quantity! Please enter a non-negative value.\")\n",
    "                valid_input = True\n",
    "            except ValueError as error:\n",
    "                print(f\"Error: {error}\")\n",
    "        inventory[product] = quantity_input\n",
    "    return inventory\n",
    "\n",
    "# If the user enters an invalid number of orders (e.g., a negative value or a non-numeric value),\n",
    "# display an error message and ask them to re-enter the number of orders.\n",
    "# If the user enters an invalid product name (e.g., a product name that is not in the inventory),\n",
    "# or that doesn't have stock available, display an error message and ask them to re-enter the product name.\n",
    "# *Hint: you will need to pass inventory as a parameter*\n",
    "# Use a try-except block to handle the error and continue prompting the user until a valid product name is entered.\n",
    "                 \n",
    "def get_customer_orders(inventory):\n",
    "    customer_orders = []\n",
    "    while True:\n",
    "        try:\n",
    "            num_of_orders = int(input(\"Please enter the number of orders you want to execute: \"))\n",
    "            if num_of_orders < 0:\n",
    "                raise ValueError(\"Number must be non-negative.\")\n",
    "            break\n",
    "        except ValueError as error:\n",
    "            print(f\"Error: {error}\")\n",
    "\n",
    "    for _ in range(num_of_orders):\n",
    "        while True:\n",
    "            product_name = input(\"Enter the product name: \").strip().lower()\n",
    "            if product_name in inventory and inventory[product_name] > 0:\n",
    "                customer_orders.append(product_name)\n",
    "                break\n",
    "            else:\n",
    "                print(\"Error: Invalid product name or out of stock.\")\n",
    "\n",
    "    return customer_orders\n",
    "\n",
    "        \n",
    "#  If the user enters an invalid price (e.g., a negative value or a non-numeric value),\n",
    "#  display an error message and ask them to re-enter the price for that product.\n",
    "#  Use a try-except block to handle the error and continue prompting the user until a valid price is entered.\n",
    "\n",
    "def calculate_total_price(customer_orders):\n",
    "    product_price = []\n",
    "    for product in customer_orders:\n",
    "        valid = False\n",
    "        while not valid:\n",
    "            try:\n",
    "                price = float(input(f\"Please enter the price of the {product}: \"))\n",
    "                if price < 0:\n",
    "                    raise ValueError(\"Invalid price! Please enter a non-negative value.\")\n",
    "                valid = True\n",
    "            except ValueError as error:\n",
    "                print(f\"Error: {error}\")\n",
    "\n",
    "        product_price.append(price)\n",
    "\n",
    "    total_price = sum(product_price)\n",
    "    return total_price\n",
    "\n",
    "\n",
    "def calculate_order_statistics(customer_orders, inventory):\n",
    "    total_products_ordered = len(customer_orders)\n",
    "    percentage_of_products_ordered = (total_products_ordered / sum(inventory.values())) * 100\n",
    "    return total_products_ordered, percentage_of_products_ordered\n",
    "\n",
    "def print_order_statistics(order_statistics):\n",
    "    total_products_ordered, percentage_of_products_ordered = order_statistics\n",
    "    print(\"Order Statistics:\")\n",
    "    print(f\"Total Products Ordered: {total_products_ordered}\")\n",
    "    print(f\"Percentage of Products Ordered: {percentage_of_products_ordered:.2f}%\")\n",
    "\n",
    "def update_inventory(customer_orders, inventory):\n",
    "    for product in customer_orders:\n",
    "        if product in inventory and inventory[product] > 0:\n",
    "            inventory[product] -= 1\n",
    "    return inventory\n",
    "\n",
    "    \n",
    "inventory = initialize_inventory(products)\n",
    "customer_orders = get_customer_orders(inventory)\n",
    "order_statistics = calculate_order_statistics(customer_orders, inventory)\n",
    "print_order_statistics(order_statistics)\n",
    "inventory = update_inventory(customer_orders, inventory)\n",
    "print(\"Updated Inventory:\", inventory)\n",
    "total_price = calculate_total_price(customer_orders)\n",
    "print(f\"Total price of ordered products is: {total_price:.2f}\")\n",
    "\n"
   ]
  },
  {
   "cell_type": "code",
   "execution_count": null,
   "id": "f29a05c0-5d41-4f2e-aa4b-e1385a8158f6",
   "metadata": {},
   "outputs": [],
   "source": []
  }
 ],
 "metadata": {
  "kernelspec": {
   "display_name": "Python 3 (ipykernel)",
   "language": "python",
   "name": "python3"
  },
  "language_info": {
   "codemirror_mode": {
    "name": "ipython",
    "version": 3
   },
   "file_extension": ".py",
   "mimetype": "text/x-python",
   "name": "python",
   "nbconvert_exporter": "python",
   "pygments_lexer": "ipython3",
   "version": "3.12.7"
  }
 },
 "nbformat": 4,
 "nbformat_minor": 5
}
